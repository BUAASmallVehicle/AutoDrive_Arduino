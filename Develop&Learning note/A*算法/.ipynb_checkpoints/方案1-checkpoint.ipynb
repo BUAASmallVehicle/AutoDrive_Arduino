{
 "cells": [
  {
   "cell_type": "markdown",
   "metadata": {},
   "source": [
    "# 方案1：全局路径 & 局部A\\*寻路\n",
    "本方案首先通过全局路径生成一系列的路径点，每两个路径点之间的部分使用A\\*算法进行寻路."
   ]
  },
  {
   "cell_type": "code",
   "execution_count": null,
   "metadata": {},
   "outputs": [],
   "source": []
  }
 ],
 "metadata": {
  "kernelspec": {
   "display_name": "Python 3",
   "language": "python",
   "name": "python3"
  },
  "language_info": {
   "codemirror_mode": {
    "name": "ipython",
    "version": 3
   },
   "file_extension": ".py",
   "mimetype": "text/x-python",
   "name": "python",
   "nbconvert_exporter": "python",
   "pygments_lexer": "ipython3",
   "version": "3.6.5"
  }
 },
 "nbformat": 4,
 "nbformat_minor": 2
}
