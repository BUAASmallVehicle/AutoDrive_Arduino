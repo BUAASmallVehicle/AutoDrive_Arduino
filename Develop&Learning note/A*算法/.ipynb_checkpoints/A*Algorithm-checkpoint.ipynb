{
 "cells": [
  {
   "cell_type": "markdown",
   "metadata": {},
   "source": [
    "# A\\* Global Path Planning Algorithm\n",
    "A\\*算法是一种全局路径规划算法，被广泛应用与多种场合，包括车辆行驶路径寻找、游戏中的寻路等. 该算法是启发式搜索算法，寻找一条从起点到终点的路径. \n",
    "\n",
    "从本质上来说，A\\*算法是Dijkstra算法与广度优先搜索算法(BFS algorithm)的推广. 这三种算法都是将地图抽象成一张图(Graph)，利用图路径搜索算法来得到找到路径."
   ]
  },
  {
   "cell_type": "markdown",
   "metadata": {},
   "source": [
    "## 1 - A\\*算法简介\n",
    "### 1.1 - 代价函数\n",
    "A\\*算法类似于Dijkstra算法，能够寻找出一条从起点至终点，具有\"最小代价\"的路径. A\\*算法与其他路径搜索算法不同的一点在于：对每个结点(node), A\\*算法使用一个代价函数$f(n)$来表示路径的总代价. 这个函数定义为：\n",
    "$$f(n) = g(n) + h(n)$$\n",
    "其中：\n",
    "1. $f(n)$ = 从起始节点, 通过结点n, 到达终点的路径的估计代价\n",
    "2. $g(n)$ = 从起点到达结点n的代价\n",
    "3. $h(h)$ = 结点n到终点的代价估计\n",
    "\n",
    "三者中，$h(n)$作为代价方程中的\"启发\"部分(Heuristic part of cost function), 通常是无法得到准确值的. 因此我们需要对其进行定义. 常见的$h(n)$有两种:\n",
    "* $h(n)$ = 从结点n到终点的**曼哈顿距离(Manhattan Distance)**, 这种定义方式使用地最普遍;\n",
    "* $h(n)$ = 0, 此时，A\\*算法就退化成了Dijkstra算法. Dijkstra算法能够保证找到最短路径.\n",
    "\n",
    "$h(n)$也可以采用别的函数，但是需要注意的是，$h(n)$的定义必须是admissible, 不能高估结点n到终点的代价.\n",
    "\n",
    "我们采用曼哈顿距离来定义$h(n)$, 曼哈顿距离的数学公式为:\n",
    "$$h_{manhattan} = |x_{start} - x_{end}| + |y_{start} - y_{end}|$$"
   ]
  },
  {
   "cell_type": "markdown",
   "metadata": {},
   "source": [
    "### 1.2 - 寻路算法\n",
    "我们使用一个例子来对A\\*算法进行说明.\n",
    "\n",
    "在开始之前需要先导入必要的包:"
   ]
  },
  {
   "cell_type": "code",
   "execution_count": 100,
   "metadata": {},
   "outputs": [],
   "source": [
    "import numpy as np\n",
    "import matplotlib.pyplot as plt"
   ]
  },
  {
   "cell_type": "markdown",
   "metadata": {},
   "source": [
    "我们首先构建一个简单的地图："
   ]
  },
  {
   "cell_type": "code",
   "execution_count": 101,
   "metadata": {},
   "outputs": [],
   "source": [
    "tm = np.array(['############################################################',\n",
    "'#..........................................................#',\n",
    "'#.............................#............................#',\n",
    "'#.............................#............................#',\n",
    "'#.............................#............................#',\n",
    "'#.......S.....................#............................#',\n",
    "'#.............................#............................#',\n",
    "'#.............................#............................#',\n",
    "'#.............................#............................#',\n",
    "'#.............................#............................#',\n",
    "'#.............................#............................#',\n",
    "'#.............................#............................#',\n",
    "'#.............................#............................#',\n",
    "'#######.#######################################............#',\n",
    "'#....#........#............................................#',\n",
    "'#....#........#............................................#',\n",
    "'#....##########............................................#',\n",
    "'#..........................................................#',\n",
    "'#..........................................................#',\n",
    "'#..........................................................#',\n",
    "'#..........................................................#',\n",
    "'#..........................................................#',\n",
    "'#...............................##############.............#',\n",
    "'#...............................#........E...#.............#',\n",
    "'#...............................#............#.............#',\n",
    "'#...............................#............#.............#',\n",
    "'#...............................#............#.............#',\n",
    "'#...............................###########..#.............#',\n",
    "'#..........................................................#',\n",
    "'#..........................................................#',\n",
    "'############################################################'])"
   ]
  },
  {
   "cell_type": "markdown",
   "metadata": {},
   "source": [
    "地图中，'.'号表示的是可以前进的位置，'#'为不可前进的位置，即障碍物, 'S'为起点，'E'为终点. 由于python中无法改变string的某个元素值，因此我们还需要单独定义一个test_map来存储搜索时的地图."
   ]
  },
  {
   "cell_type": "code",
   "execution_count": 102,
   "metadata": {},
   "outputs": [],
   "source": [
    "test_map = []"
   ]
  },
  {
   "cell_type": "markdown",
   "metadata": {},
   "source": [
    "我们要从S点移动到E点，在这个过程中，每走一步(即移动一个方格)，准备进行下一步时，都会产生一个状态: 可走 or 不可走. 我们需要构建两个集合closed与open，前者存放已经被估算的节点，后者存放将要被估算的节点. 另外还需要一个列表来记录每个节点的$f(n)$值. \n",
    "\n",
    "整个寻路过程可以被分为以下几个步骤：\n",
    "1. 将起点S放入open set中;\n",
    "2. 查看与起点S相邻的节点，把其中可走的节点加入到open set中，并把起点A设置为这些节点的父节点;\n",
    "3. 从open set中移除S，并将S加入closed set;\n",
    "4. 在open set中选取f(n)值最小的节点BST，放入closed set中;\n",
    "5. 检查BST周围所有可走的点，把可走的点放入open set中;\n",
    "6. 如果可走的点已经在open set中，则检查BST作为父节点的g(n)是否比之前在open set时小，如果小，则替换成新的父节点;\n",
    "7. 不断重复上边的过程，直到目标节点在closed set中，或者open set为空;\n",
    "8. 目标节点沿着父节点递归，直到找到S，至此找到完整的路径.\n",
    "\n",
    "为了使用方便，我们首先定义每个节点的数据类型:"
   ]
  },
  {
   "cell_type": "code",
   "execution_count": 103,
   "metadata": {},
   "outputs": [],
   "source": [
    "class Node_Elem:\n",
    "    \"\"\"\n",
    "    open与closed列表中存储的元素类型\n",
    "    \"\"\"\n",
    "    def __init__(self, parent, x, y, dist):\n",
    "        '''\n",
    "        一个节点中有四个元素，分别为\"父节点\"、\"x坐标\"、\"y坐标\"、\"从起点到当前点的距离\"\n",
    "        '''\n",
    "        self.parent = parent\n",
    "        self.x = x\n",
    "        self.y = y\n",
    "        self.dist = dist"
   ]
  },
  {
   "cell_type": "markdown",
   "metadata": {},
   "source": [
    "另外，我们还需要对算法实现过程中的一些数据进行初始化:"
   ]
  },
  {
   "cell_type": "code",
   "execution_count": 104,
   "metadata": {},
   "outputs": [],
   "source": [
    "## 初始化open set与closed set\n",
    "openSet = []\n",
    "closedSet = []\n",
    "path = []\n",
    "\n",
    "## 通过函数获取起点、终点和地图的相关信息\n",
    "def before_searching(s_x, s_y, e_x, e_y, w = 60, h = 30):\n",
    "    return s_x, s_y, e_x, e_y, w, h\n",
    "\n",
    "## 将tm地图导入test_mao\n",
    "def tm_to_test_map():\n",
    "    for line in tm:\n",
    "        test_map.append(list(line))\n",
    "        \n",
    "## 得到起点与终点\n",
    "def get_start_XY():\n",
    "    return get_symbol_XY('S')\n",
    "\n",
    "def get_end_XY():\n",
    "    return get_symbol_XY('E')\n",
    "\n",
    "def get_symbol_XY(str):\n",
    "    for y, line in enumerate(test_map):\n",
    "        try:\n",
    "            x = line.index(str)\n",
    "        except:\n",
    "            continue\n",
    "        else:\n",
    "            break\n",
    "    return x, y\n",
    "\n",
    "## 得到地图的长宽\n",
    "def get_map_wh():\n",
    "    w = len(test_map[0])\n",
    "    h = len(test_map)\n",
    "    return w, h"
   ]
  },
  {
   "cell_type": "markdown",
   "metadata": {},
   "source": [
    "将地图转存到test_map中，并获取必要的参数:"
   ]
  },
  {
   "cell_type": "code",
   "execution_count": 105,
   "metadata": {},
   "outputs": [
    {
     "name": "stdout",
     "output_type": "stream",
     "text": [
      "31\n",
      "起点：\n",
      "8 5\n",
      "终点：\n",
      "41 23\n",
      "地图长宽：\n",
      "60 31\n"
     ]
    }
   ],
   "source": [
    "test_map = []\n",
    "## 转存\n",
    "tm_to_test_map()\n",
    "print(len(test_map))\n",
    "## 得到起点与终点\n",
    "s_x, s_y = get_start_XY()\n",
    "e_x, e_y = get_end_XY()\n",
    "\n",
    "print('起点：')\n",
    "print(s_x, s_y)\n",
    "\n",
    "print('终点：')\n",
    "print(e_x, e_y)\n",
    "\n",
    "## 得到地图的长宽\n",
    "w, h = get_map_wh()\n",
    "print('地图长宽：')\n",
    "print(w, h)"
   ]
  },
  {
   "cell_type": "markdown",
   "metadata": {},
   "source": [
    "接下来就是根据算法计算路径了:"
   ]
  },
  {
   "cell_type": "code",
   "execution_count": 107,
   "metadata": {},
   "outputs": [],
   "source": [
    "## 为了方便，我们将A*算法实现为一个类\n",
    "class A_Star:\n",
    "    def __init__(self, s_x, s_y, e_x, e_y, test_map, w=60, h=30):\n",
    "        self.s_x = s_x\n",
    "        self.s_y = s_y\n",
    "        self.e_x = e_x\n",
    "        self.e_y = e_y\n",
    "        \n",
    "        self.width = w\n",
    "        self.height = h\n",
    "        \n",
    "        self.open = []\n",
    "        self.close = []\n",
    "        self.path = []\n",
    "        \n",
    "        self.test_map = test_map\n",
    "        \n",
    "    ## 路径查找\n",
    "    def find_path(self):\n",
    "        # 构建起始节点\n",
    "        p = Node_Elem(None, self.s_x, self.s_y, 0.0)\n",
    "    \n",
    "        # 循环体\n",
    "        while True:\n",
    "            # 扩展当前节点\n",
    "            self.extend_round(p)\n",
    "        \n",
    "            # 如果open set为空，则不存在路径，输出该信息\n",
    "            if not self.open:\n",
    "                print('没有路径存在!请检查地图是否正确\\n')\n",
    "                return -1\n",
    "        \n",
    "            # 获取open set中f(n)最小的点\n",
    "            idx, p = self.get_best()\n",
    "            \n",
    "            # 如果p就是目标节点，则找到路径并生成路径\n",
    "            if self.is_target(p):\n",
    "                self.make_path(p)\n",
    "                print('已经找到路径!')\n",
    "                return 1\n",
    "            \n",
    "            # 如果p不是目标节点，则将该节点压如close set中，并从open set中删除该列表\n",
    "            self.close.append(p)\n",
    "            del self.open[idx]\n",
    "        \n",
    "    ## 生成路径\n",
    "    def make_path(self, p):\n",
    "        while p:\n",
    "            self.path.append((p.x, p.y))\n",
    "            p = p.parent\n",
    "        \n",
    "    ## 判断是否是目标点\n",
    "    def is_target(self, pt):\n",
    "        return pt.x == self.e_x and pt.y == self.e_y\n",
    "\n",
    "    ## 获取open set中f(n)最小的点\n",
    "    def get_best(self):\n",
    "        best = None\n",
    "        bv = 1000000000    # 该值随着地图的扩张而增大\n",
    "        bi = -1         # 记录点在open set中的位置\n",
    "    \n",
    "        for idx, i in enumerate(self.open):\n",
    "            value = self.get_dist(i)   # 获取f(n)值\n",
    "            if value < bv:\n",
    "                best = i\n",
    "                bv = value\n",
    "                bi = idx\n",
    "            \n",
    "        return bi, best\n",
    "\n",
    "    ## 获取f(n)值\n",
    "    def get_dist(self, pt):\n",
    "        '''\n",
    "        这一部分是A\\*算法的精华所在，即f(n) = g(n) + h(n)\n",
    "        这里采用Manhattan距离作为h(n)\n",
    "        '''\n",
    "        g = pt.dist\n",
    "        h = abs(pt.x - self.e_x) + abs(pt.y - self.e_y)\n",
    "        \n",
    "        return g + h\n",
    "\n",
    "    ## 扩展节点\n",
    "    def extend_round(self, pt):\n",
    "        # 八方向扩展\n",
    "        xs = (-1, 0, 1, -1, 1, -1, 0, 1)\n",
    "        ys = (-1,-1,-1,  0, 0,  1, 1, 1)\n",
    "        \n",
    "        for x, y in zip(xs, ys):\n",
    "            new_x, new_y = x + pt.x, y + pt.y\n",
    "            # 若是无效或者不可行走的区域，则忽略\n",
    "            if not self.is_valid_coord(new_x, new_y):\n",
    "                continue\n",
    "                \n",
    "            # 构造新的节点\n",
    "            node = Node_Elem(pt, new_x, new_y, pt.dist + self.get_cost(pt.x, pt.y, new_x, new_y))\n",
    "        \n",
    "            # 若新节点在closed set，则忽略\n",
    "            if self.node_in_close(node):\n",
    "                continue\n",
    "            # 若新节点不在closed set\n",
    "            i = self.node_in_open(node)\n",
    "            if i != -1:\n",
    "                # 新节点在open set\n",
    "                if self.open[i].dist > node.dist:\n",
    "                    # 现在的路径到open[i]的距离小于原先的距离\n",
    "                    self.open[i].parent = pt\n",
    "                    self.open[i].dist = node.dist\n",
    "                continue\n",
    "        \n",
    "            # 加入open set中\n",
    "            self.open.append(node)\n",
    "        \n",
    "    ## 获取前进的代价\n",
    "    def get_cost(self, x1, x2, y1, y2):\n",
    "        # 上下直走代价为1, 斜走代价为1.4\n",
    "        if x1 == x2 or y1 == y2:\n",
    "            return 1.0\n",
    "        return 1.4\n",
    "\n",
    "    ## 判断是否在closed set中\n",
    "    def node_in_close(self, node):\n",
    "        for i in self.close:\n",
    "            if node.x == i.x and node.y == i.y:\n",
    "                return True\n",
    "        return False\n",
    "\n",
    "    ## 判断是否在open set中\n",
    "    def node_in_open(self, node):\n",
    "        for i, n in enumerate(self.open):\n",
    "            if node.x == n.x and node.y == n.y:\n",
    "                return i\n",
    "        return -1\n",
    "\n",
    "    ## 是否是障碍物\n",
    "    def is_valid_coord(self, x, y):\n",
    "        if x < 0 or x >= self.width or y < 0 or y >= self.height:\n",
    "            return False\n",
    "        return self.test_map[y][x] != '#'\n",
    "    \n",
    "    ## 得到搜索路径\n",
    "    def get_searched(self):\n",
    "        l = []\n",
    "        for i in self.open:\n",
    "            l.append((i.x, i.y))\n",
    "        for i in self.close:\n",
    "            l.append((i.x, i.y))\n",
    "        return l"
   ]
  },
  {
   "cell_type": "markdown",
   "metadata": {},
   "source": [
    "检验是否有bug"
   ]
  },
  {
   "cell_type": "code",
   "execution_count": 109,
   "metadata": {},
   "outputs": [
    {
     "name": "stdout",
     "output_type": "stream",
     "text": [
      "已经找到路径!\n",
      "[(41, 23), (41, 24), (42, 25), (43, 26), (44, 27), (45, 28), (46, 27), (46, 26), (46, 25), (46, 24), (46, 23), (46, 22), (45, 21), (44, 20), (43, 19), (42, 18), (43, 17), (44, 16), (45, 15), (46, 14), (47, 13), (46, 12), (45, 12), (44, 12), (43, 12), (42, 12), (41, 12), (40, 11), (39, 10), (38, 9), (37, 8), (36, 7), (35, 6), (34, 5), (33, 4), (32, 3), (31, 2), (30, 1), (29, 2), (28, 3), (27, 4), (26, 5), (25, 6), (24, 7), (23, 8), (22, 9), (21, 10), (20, 11), (19, 12), (18, 12), (17, 12), (16, 12), (15, 12), (14, 11), (13, 10), (12, 9), (11, 8), (10, 7), (9, 6), (8, 5)]\n"
     ]
    }
   ],
   "source": [
    "a_star = A_Star(s_x, s_y, e_x, e_y, test_map, w, h)\n",
    "a_star.find_path()\n",
    "searched = a_star.get_searched()\n",
    "path = a_star.path\n",
    "print(path)"
   ]
  },
  {
   "cell_type": "markdown",
   "metadata": {},
   "source": [
    "定义一个函数，将找到的路径打印出来"
   ]
  },
  {
   "cell_type": "code",
   "execution_count": 110,
   "metadata": {},
   "outputs": [
    {
     "name": "stdout",
     "output_type": "stream",
     "text": [
      "############################################################\n",
      "#.............................o............................#\n",
      "#............................o#o...........................#\n",
      "#...........................o.#.o..........................#\n",
      "#..........................o..#..o.........................#\n",
      "#.......o.................o...#...o........................#\n",
      "#........o...............o....#....o.......................#\n",
      "#.........o.............o.....#.....o......................#\n",
      "#..........o...........o......#......o.....................#\n",
      "#...........o.........o.......#.......o....................#\n",
      "#............o.......o........#........o...................#\n",
      "#.............o.....o.........#.........o..................#\n",
      "#..............ooooo..........#..........oooooo............#\n",
      "#######.#######################################o...........#\n",
      "#....#........#...............................o............#\n",
      "#....#........#..............................o.............#\n",
      "#....##########.............................o..............#\n",
      "#..........................................o...............#\n",
      "#.........................................o................#\n",
      "#..........................................o...............#\n",
      "#...........................................o..............#\n",
      "#............................................o.............#\n",
      "#...............................##############o............#\n",
      "#...............................#........o...#o............#\n",
      "#...............................#........o...#o............#\n",
      "#...............................#.........o..#o............#\n",
      "#...............................#..........o.#o............#\n",
      "#...............................###########.o#o............#\n",
      "#............................................o.............#\n",
      "#..........................................................#\n",
      "############################################################\n"
     ]
    },
    {
     "data": {
      "text/plain": [
       "1"
      ]
     },
     "execution_count": 110,
     "metadata": {},
     "output_type": "execute_result"
    }
   ],
   "source": [
    "## 打印路径\n",
    "def print_road(map, path):\n",
    "    for pt in path:\n",
    "        if map[pt[1]][pt[0]] != 'S' or map[pt[1]][pt[0]] != 'E':\n",
    "            map[pt[1]][pt[0]] = 'o'\n",
    "        \n",
    "    for line in map:\n",
    "        print(''.join(line))\n",
    "    \n",
    "    return 1\n",
    "\n",
    "print_road(a_star.test_map, path)"
   ]
  },
  {
   "cell_type": "code",
   "execution_count": null,
   "metadata": {},
   "outputs": [],
   "source": []
  }
 ],
 "metadata": {
  "kernelspec": {
   "display_name": "Python 3",
   "language": "python",
   "name": "python3"
  },
  "language_info": {
   "codemirror_mode": {
    "name": "ipython",
    "version": 3
   },
   "file_extension": ".py",
   "mimetype": "text/x-python",
   "name": "python",
   "nbconvert_exporter": "python",
   "pygments_lexer": "ipython3",
   "version": "3.6.5"
  }
 },
 "nbformat": 4,
 "nbformat_minor": 2
}
